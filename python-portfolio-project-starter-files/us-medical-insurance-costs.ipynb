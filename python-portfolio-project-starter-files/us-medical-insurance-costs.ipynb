{
 "cells": [
  {
   "cell_type": "markdown",
   "metadata": {},
   "source": [
    "# U.S. Medical Insurance Costs"
   ]
  },
  {
   "cell_type": "markdown",
   "metadata": {},
   "source": [
    "In this project, I will use the different courses I followed to use datas. I will analyze a dataset within the file insurance.csv with the libary csv, to learn more about the insurances costs in US depending on differente features such as the sex, the number of children...\n"
   ]
  },
  {
   "cell_type": "code",
   "execution_count": 25,
   "metadata": {},
   "outputs": [
    {
     "name": "stdout",
     "output_type": "stream",
     "text": [
      "oui\n"
     ]
    }
   ],
   "source": [
    "# import csv library\n",
    "import csv\n",
    "print('oui')"
   ]
  },
  {
   "cell_type": "markdown",
   "metadata": {},
   "source": [
    "We will use this library because our file is a .csv. We could use others librairies for for this analysis, this library is enough.\n",
    "\n",
    "First, let's retrieve the datas in lists. It will allow us to discover our dataset, then we will be able to focus our analysis depending on the datas.\n",
    "Our lists will also allow us to check missing datas, knows the names of the rows and columns but also their types (categorical,  numerical ...)"
   ]
  },
  {
   "cell_type": "code",
   "execution_count": 33,
   "metadata": {},
   "outputs": [],
   "source": [
    "# create empty lists\n",
    "ages = []\n",
    "sexes = []\n",
    "bmis = []\n",
    "num_children = []\n",
    "smoker_status = []\n",
    "insurance_charges = []"
   ]
  },
  {
   "cell_type": "markdown",
   "metadata": {},
   "source": [
    "Now, we can use our library to read the file, retrieve the datas and fill the lists. To do that, we will firstly convert the csv file into \n",
    "a Python dictonnary that we know how to handle."
   ]
  },
  {
   "cell_type": "code",
   "execution_count": 54,
   "metadata": {},
   "outputs": [
    {
     "name": "stdout",
     "output_type": "stream",
     "text": [
      "The average age of our survey is  39 .\n"
     ]
    }
   ],
   "source": [
    "# open the file using 'with'\n",
    "with open(\"insurance.csv\") as insurance :\n",
    "    insurance_dict = csv.DictReader(insurance)\n",
    "    for category in insurance_dict :\n",
    "        ages.append(category['age'])\n",
    "        sexes.append(category['sex'])\n",
    "        bmis.append(category['bmi'])\n",
    "        num_children.append(category['children'])\n",
    "        smoker_status.append(category['smoker'])\n",
    "        insurance_charges.append(category['charges'])\n",
    "\n",
    "age_total = 0\n",
    "for age in ages :\n",
    "    age_total += int(age)\n",
    "\n",
    "avg_age = age_total / len(ages)\n",
    "\n",
    "print(\"The average age of our survey is \", round(avg_age),'.')"
   ]
  },
  {
   "cell_type": "code",
   "execution_count": null,
   "metadata": {},
   "outputs": [],
   "source": []
  },
  {
   "cell_type": "code",
   "execution_count": null,
   "metadata": {},
   "outputs": [],
   "source": []
  },
  {
   "cell_type": "code",
   "execution_count": null,
   "metadata": {},
   "outputs": [],
   "source": []
  }
 ],
 "metadata": {
  "kernelspec": {
   "display_name": "Python 3 (ipykernel)",
   "language": "python",
   "name": "python3"
  },
  "language_info": {
   "codemirror_mode": {
    "name": "ipython",
    "version": 3
   },
   "file_extension": ".py",
   "mimetype": "text/x-python",
   "name": "python",
   "nbconvert_exporter": "python",
   "pygments_lexer": "ipython3",
   "version": "3.12.4"
  }
 },
 "nbformat": 4,
 "nbformat_minor": 4
}
