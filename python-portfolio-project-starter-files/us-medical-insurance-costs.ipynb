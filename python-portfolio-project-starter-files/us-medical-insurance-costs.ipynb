{
 "cells": [
  {
   "cell_type": "markdown",
   "metadata": {},
   "source": [
    "# U.S. Medical Insurance Costs"
   ]
  },
  {
   "cell_type": "markdown",
   "metadata": {},
   "source": [
    "In this project, I will use the different courses I followed to use datas. I will analyze a dataset within the file insurance.csv with the libary csv, to learn more about the insurances costs in US depending on differente features such as the sex, the number of children...\n"
   ]
  },
  {
   "cell_type": "code",
   "execution_count": 387,
   "metadata": {},
   "outputs": [
    {
     "name": "stdout",
     "output_type": "stream",
     "text": [
      "oui\n"
     ]
    }
   ],
   "source": [
    "# import csv library\n",
    "import csv\n",
    "print('oui')"
   ]
  },
  {
   "cell_type": "markdown",
   "metadata": {},
   "source": [
    "We will use this library because our file is a .csv. We could use others librairies for for this analysis, this library is enough.\n",
    "\n",
    "First, let's retrieve the datas in lists. It will allow us to discover our dataset, then we will be able to focus our analysis depending on the datas.\n",
    "Our lists will also allow us to check missing datas, knows the names of the rows and columns but also their types (categorical,  numerical ...)"
   ]
  },
  {
   "cell_type": "code",
   "execution_count": 389,
   "metadata": {},
   "outputs": [],
   "source": [
    "# create empty lists\n",
    "ages = []\n",
    "sexes = []\n",
    "bmis = []\n",
    "num_children = []\n",
    "smoker_status = []\n",
    "insurance_charges = []\n",
    "regions = []"
   ]
  },
  {
   "cell_type": "markdown",
   "metadata": {},
   "source": [
    "Now, we can use our library to read the file, retrieve the datas and fill the lists. To do that, we will firstly convert the csv file into \n",
    "a Python dictonnary that we know how to handle."
   ]
  },
  {
   "cell_type": "code",
   "execution_count": 391,
   "metadata": {},
   "outputs": [
    {
     "name": "stdout",
     "output_type": "stream",
     "text": [
      "The average age of our survey is 39 .\n",
      "We study a sample of 1338 persons.\n"
     ]
    }
   ],
   "source": [
    "# open the file using 'with'\n",
    "with open(\"insurance.csv\") as insurance :\n",
    "    insurance_dict = csv.DictReader(insurance)\n",
    "    for category in insurance_dict :\n",
    "        ages.append(category['age'])\n",
    "        sexes.append(category['sex'])\n",
    "        bmis.append(category['bmi'])\n",
    "        num_children.append(category['children'])\n",
    "        smoker_status.append(category['smoker'])\n",
    "        insurance_charges.append(category['charges'])\n",
    "        regions.append(category['region'])\n",
    "        \n",
    "\n",
    "age_total = 0\n",
    "for age in ages :\n",
    "    age_total += int(age)\n",
    "\n",
    "avg_age = age_total / len(ages)\n",
    "\n",
    "print(\"The average age of our survey is\", round(avg_age),'.')\n",
    "print(\"We study a sample of\", len(ages),\"persons.\")"
   ]
  },
  {
   "cell_type": "markdown",
   "metadata": {},
   "source": [
    "First, we are going to study the impart of the smoker staut on the cost of the insurance."
   ]
  },
  {
   "cell_type": "code",
   "execution_count": 393,
   "metadata": {},
   "outputs": [
    {
     "name": "stdout",
     "output_type": "stream",
     "text": [
      "The insurance costs in average  23616 $ more for a smoker.\n"
     ]
    }
   ],
   "source": [
    "costs_for_smokers = 0\n",
    "costs_for_non_smokers = 0\n",
    "number_of_smokers = 0\n",
    "number_of_non_smokers = 0\n",
    "\n",
    "for i, val in enumerate(smoker_status) :\n",
    "    if val == 'yes' :\n",
    "        costs_for_smokers += float(insurance_charges[i])\n",
    "        number_of_smokers += 1\n",
    "    else :\n",
    "        costs_for_non_smokers += float(insurance_charges[i])\n",
    "        number_of_non_smokers += 1\n",
    "        \n",
    "avg_cost_for_smokers = (round(costs_for_smokers / number_of_smokers))\n",
    "avg_cost_for_non_smokers = (round(costs_for_non_smokers / number_of_non_smokers))\n",
    "avg_difference_smoker_statut = avg_cost_for_smokers - avg_cost_for_non_smokers\n",
    "\n",
    "print(\"The insurance costs in average \", avg_difference_smoker_statut, \"$ more for a smoker.\")"
   ]
  },
  {
   "cell_type": "markdown",
   "metadata": {},
   "source": [
    "Now, we are going to study the impact of the number of children"
   ]
  },
  {
   "cell_type": "code",
   "execution_count": 395,
   "metadata": {},
   "outputs": [
    {
     "name": "stdout",
     "output_type": "stream",
     "text": [
      "A person with at least one child pays in average 13950  while a person whithout child pays 12366 .\n"
     ]
    }
   ],
   "source": [
    "avg_cost_child = {\"No child\" : 0, \"At least one child\" : 0} \n",
    "num_with_no_child = 0\n",
    "num_with_child = 0\n",
    "\n",
    "for i, val in enumerate(num_children) :\n",
    "    if int(val) > 0 :\n",
    "        avg_cost_child['At least one child'] += float(insurance_charges[i])\n",
    "        num_with_child += 1\n",
    "    else :\n",
    "        avg_cost_child['No child'] += float(insurance_charges[i])\n",
    "        num_with_no_child += 1\n",
    "\n",
    "\n",
    "avg_cost_with_no_child = round(avg_cost_child['No child'] / num_with_no_child)   \n",
    "avg_cost_with_child = round(avg_cost_child['At least one child'] / num_with_child)\n",
    "\n",
    "print(\"A person with at least one child pays in average\", avg_cost_with_child,\" while a person whithout child pays\", avg_cost_with_no_child,\".\")"
   ]
  },
  {
   "cell_type": "markdown",
   "metadata": {},
   "source": [
    "We can see that a person whithout child pays less than a person with at least one child.\n",
    "Now let's study the livingplace of the people of our sample."
   ]
  },
  {
   "cell_type": "code",
   "execution_count": 397,
   "metadata": {},
   "outputs": [
    {
     "name": "stdout",
     "output_type": "stream",
     "text": [
      "Our survey is composed of 325 persons from northwest, 324 from northeast 325 from southwest and 364 from southeast.\n"
     ]
    }
   ],
   "source": [
    "\n",
    "from_northwest = 0\n",
    "from_northeast = 0\n",
    "from_southwest = 0\n",
    "from_southeast = 0\n",
    "\n",
    "for region in regions :\n",
    "    if region == \"southeast\" :\n",
    "        from_southeast += 1\n",
    "    elif region == \"southwest\" :\n",
    "        from_southwest += 1\n",
    "    elif region == \"northeast\" :\n",
    "        from_northeast += 1\n",
    "    else :\n",
    "        from_northwest += 1\n",
    "\n",
    "print(\"Our survey is composed of\", from_northwest,\"persons from northwest,\", from_northeast,\"from northeast\", from_southwest,\"from southwest and\", from_southeast,\"from southeast.\")"
   ]
  },
  {
   "cell_type": "code",
   "execution_count": null,
   "metadata": {},
   "outputs": [],
   "source": []
  }
 ],
 "metadata": {
  "kernelspec": {
   "display_name": "Python 3 (ipykernel)",
   "language": "python",
   "name": "python3"
  },
  "language_info": {
   "codemirror_mode": {
    "name": "ipython",
    "version": 3
   },
   "file_extension": ".py",
   "mimetype": "text/x-python",
   "name": "python",
   "nbconvert_exporter": "python",
   "pygments_lexer": "ipython3",
   "version": "3.12.7"
  }
 },
 "nbformat": 4,
 "nbformat_minor": 4
}
